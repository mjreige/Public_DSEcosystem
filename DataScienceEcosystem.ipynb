{
 "cells": [
  {
   "cell_type": "markdown",
   "id": "dad6e28d-9a9d-4b92-878a-6f585b4758ac",
   "metadata": {
    "tags": []
   },
   "source": [
    "# Data Science Tools\n",
    "# Ecosystem"
   ]
  },
  {
   "cell_type": "markdown",
   "id": "9b0f5c08-ed90-431e-b175-4a7b9ff9f55c",
   "metadata": {},
   "source": [
    "In this notebook, Data Science Tools and Ecosystem are summarized."
   ]
  },
  {
   "cell_type": "markdown",
   "id": "948515f5-dd7f-4532-bc33-43d3dd95e15f",
   "metadata": {},
   "source": [
    "__Objectives__\n",
    "* List popular languages that Data Scientists use\n",
    "* List commonly used libraries used by Data Scientists\n",
    "* List Data Science Tools"
   ]
  },
  {
   "cell_type": "markdown",
   "id": "5d7a744f-da9f-48a2-aef5-34d59278b058",
   "metadata": {
    "tags": []
   },
   "source": [
    "Some of the popular languages that Data Scientists use are:\n",
    "1. Python\n",
    "2. R\n",
    "3. Julia"
   ]
  },
  {
   "cell_type": "markdown",
   "id": "682c8b9d-15ff-4d2f-bd98-e79792b362f6",
   "metadata": {},
   "source": [
    "Some of commonly used libraries used by Data Scientists include:\n",
    "1. numpy\n",
    "2. pandas\n",
    "3. matplotlib"
   ]
  },
  {
   "cell_type": "markdown",
   "id": "e3f86b3e-b559-4a17-a680-f18f087b29d1",
   "metadata": {
    "tags": []
   },
   "source": [
    "|Data Science Tools|\n",
    "|----|\n",
    "|Jupyter Notebook|\n",
    "|JupyterLab|\n",
    "|Google Colaboratory|"
   ]
  },
  {
   "cell_type": "markdown",
   "id": "9e7c1c51-2eb6-4038-8b81-49ce19030fce",
   "metadata": {},
   "source": [
    "### Below are a few examples of evaluating arithmetic expressions in Python."
   ]
  },
  {
   "cell_type": "code",
   "execution_count": 9,
   "id": "2a391601-71c8-41be-9ca4-abfc488166fc",
   "metadata": {
    "tags": []
   },
   "outputs": [
    {
     "data": {
      "text/plain": [
       "17"
      ]
     },
     "execution_count": 9,
     "metadata": {},
     "output_type": "execute_result"
    }
   ],
   "source": [
    "# This is a simple arithmetic expression to multiply then add integers\n",
    "(3*4)+5"
   ]
  },
  {
   "cell_type": "code",
   "execution_count": 10,
   "id": "d0dde690-39d2-41b8-836e-34db3a0ca3ed",
   "metadata": {
    "tags": []
   },
   "outputs": [
    {
     "data": {
      "text/plain": [
       "3.3333333333333335"
      ]
     },
     "execution_count": 10,
     "metadata": {},
     "output_type": "execute_result"
    }
   ],
   "source": [
    "# This will convert 200 minutes to hours by dividing by 60\n",
    "200/60"
   ]
  },
  {
   "cell_type": "markdown",
   "id": "f4adf4a3-ab73-4c59-b2af-7e9ed853a38d",
   "metadata": {},
   "source": [
    "## Author\n",
    "Michel Jreige"
   ]
  }
 ],
 "metadata": {
  "kernelspec": {
   "display_name": "Python",
   "language": "python",
   "name": "conda-env-python-py"
  },
  "language_info": {
   "codemirror_mode": {
    "name": "ipython",
    "version": 3
   },
   "file_extension": ".py",
   "mimetype": "text/x-python",
   "name": "python",
   "nbconvert_exporter": "python",
   "pygments_lexer": "ipython3",
   "version": "3.7.12"
  }
 },
 "nbformat": 4,
 "nbformat_minor": 5
}
